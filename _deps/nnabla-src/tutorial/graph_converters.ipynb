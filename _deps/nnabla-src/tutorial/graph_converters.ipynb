{
 "cells": [
  {
   "cell_type": "markdown",
   "metadata": {},
   "source": [
    "# Graph Converters"
   ]
  },
  {
   "cell_type": "markdown",
   "metadata": {},
   "source": [
    "As neural networks becomes complex and one of components in a system,\n",
    "we sometimes want to convert a network as we want. Typical usecase is for inference.\n",
    "We want to merge or change some layers in a network as a high-level optimization for the inference speed.\n",
    "Also, there are other usecases: adding new layers to keep track some stats,\n",
    "adding quantize/dequantize layers for a quantized inference,\n",
    "decomposing a layer as combination of a low-rank ones,\n",
    "changing a network architecture for the neural architecture search based on an original network architecture,\n",
    "changing the tensor format from the channel first to channel last and opposite, and so on.\n",
    "\n",
    "Let's look at the simple cases\n",
    "1. batch normalization folding\n",
    "2. channel last conversion\n",
    "\n",
    "As a reference network, use the follows."
   ]
  },
  {
   "cell_type": "code",
   "execution_count": null,
   "metadata": {
    "scrolled": true
   },
   "outputs": [],
   "source": [
    "# ResNet-50 for inference\n",
    "import nnabla as nn\n",
    "import nnabla.functions as F\n",
    "import nnabla.parametric_functions as PF\n",
    "import numpy as np\n",
    "from nnabla.utils.inspection import pprint\n",
    "from nnabla.models.imagenet import ResNet50\n",
    "\n",
    "model = ResNet50()\n",
    "\n",
    "batch_size = 1\n",
    "x = nn.Variable((batch_size,) + model.input_shape)\n",
    "y = model(x, training=False)"
   ]
  },
  {
   "cell_type": "markdown",
   "metadata": {},
   "source": [
    "## Batch Normalization Folding"
   ]
  },
  {
   "cell_type": "markdown",
   "metadata": {},
   "source": [
    "See the resnet architecture."
   ]
  },
  {
   "cell_type": "code",
   "execution_count": null,
   "metadata": {},
   "outputs": [],
   "source": [
    "pprint(y)"
   ]
  },
  {
   "cell_type": "markdown",
   "metadata": {},
   "source": [
    "Now, we can see the batch normalization. For the inference, we do not need to compute\n",
    "the batch normalization explicitly by folding the batch normalization parameters\n",
    "if there is e.g., a convolution before the batch normalization.\n",
    "\n",
    "To fold the batch normalization, use BatchNormalizationFoldingModifier as the following."
   ]
  },
  {
   "cell_type": "code",
   "execution_count": null,
   "metadata": {},
   "outputs": [],
   "source": [
    "import nnabla.experimental.graph_converters as GC\n",
    "\n",
    "modifiers = [GC.BatchNormalizationFoldingModifier()]\n",
    "gc = GC.GraphConverter(modifiers)\n",
    "yy = gc.convert(y)"
   ]
  },
  {
   "cell_type": "markdown",
   "metadata": {},
   "source": [
    "Again, see the resnet architecture converted."
   ]
  },
  {
   "cell_type": "code",
   "execution_count": null,
   "metadata": {},
   "outputs": [],
   "source": [
    "pprint(yy)"
   ]
  },
  {
   "cell_type": "markdown",
   "metadata": {},
   "source": [
    "You can see that the converterd network does not contain the batch normalization any more!\n",
    "\n",
    "In some cases, we can not fold the batch normalization, but the batch normalization can also be self-folded,\n",
    "i.e., the four parameters: scale, bias, running mean, running variance can be two other scale and bias.\n",
    "For doing this, use BatchNormalizationSelfFoldingModifier."
   ]
  },
  {
   "cell_type": "markdown",
   "metadata": {},
   "source": [
    "## Channel Last Conversion"
   ]
  },
  {
   "cell_type": "markdown",
   "metadata": {},
   "source": [
    "In NVIDIA latest GPU architectures since Volta, it supports TensorCore to accelerate the computatoinal performance. To boost the performance as maximum as possible, we need the channel-last tensor format aka NHWC. In NNabla, the default tensor format is the channel first aka NCHW, so as to utilize TensorCore, we need to change the tensor format to NHWC format.\n",
    "\n",
    "ChannelLastModifier convert a network with NCHW tesnor format to another network with NHWC tensor format."
   ]
  },
  {
   "cell_type": "code",
   "execution_count": null,
   "metadata": {},
   "outputs": [],
   "source": [
    "import nnabla.experimental.graph_converters as GC\n",
    "\n",
    "modifiers = [GC.ChannelLastModifier([x])]\n",
    "gc = GC.GraphConverter(modifiers)\n",
    "yy = gc.convert(y)"
   ]
  },
  {
   "cell_type": "markdown",
   "metadata": {},
   "source": [
    "Let's see the resnet architecture converted."
   ]
  },
  {
   "cell_type": "code",
   "execution_count": null,
   "metadata": {},
   "outputs": [],
   "source": [
    "pprint(yy)"
   ]
  },
  {
   "cell_type": "markdown",
   "metadata": {},
   "source": [
    "We can find the channel dimension changed at the last!\n",
    "\n",
    "If we want to access to the inputs of which tensor format converted, "
   ]
  },
  {
   "cell_type": "code",
   "execution_count": null,
   "metadata": {},
   "outputs": [],
   "source": [
    "x_cl = modifiers[0].inputs_cl[0]\n",
    "print(x_cl)"
   ]
  },
  {
   "cell_type": "markdown",
   "metadata": {},
   "source": [
    "Note that ChannelLastModifier supports a set of layers: Convolution, Deconvolution, BatchNormalization, MaxPooling, AveragePooling, SumPooling, Unpooling, Concatenate and also supposes NCHW format.\n",
    "\n",
    "There also exists ChannelFirstModifier in the opposite change."
   ]
  }
 ],
 "metadata": {
  "kernelspec": {
   "display_name": "Python 3",
   "language": "python",
   "name": "python3"
  },
  "language_info": {
   "codemirror_mode": {
    "name": "ipython",
    "version": 3
   },
   "file_extension": ".py",
   "mimetype": "text/x-python",
   "name": "python",
   "nbconvert_exporter": "python",
   "pygments_lexer": "ipython3",
   "version": "3.7.1"
  }
 },
 "nbformat": 4,
 "nbformat_minor": 2
}
